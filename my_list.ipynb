{
  "nbformat": 4,
  "nbformat_minor": 0,
  "metadata": {
    "colab": {
      "provenance": [],
      "authorship_tag": "ABX9TyPBQpGFJ6BJn7guhLHIBM5/",
      "include_colab_link": true
    },
    "kernelspec": {
      "name": "python3",
      "display_name": "Python 3"
    },
    "language_info": {
      "name": "python"
    }
  },
  "cells": [
    {
      "cell_type": "markdown",
      "metadata": {
        "id": "view-in-github",
        "colab_type": "text"
      },
      "source": [
        "<a href=\"https://colab.research.google.com/github/MUSYOKIPeter/PLP-Python-Programming-Wk2-Assignment/blob/master/my_list.ipynb\" target=\"_parent\"><img src=\"https://colab.research.google.com/assets/colab-badge.svg\" alt=\"Open In Colab\"/></a>"
      ]
    },
    {
      "cell_type": "code",
      "execution_count": 3,
      "metadata": {
        "colab": {
          "base_uri": "https://localhost:8080/"
        },
        "id": "nQB9ILStxkbq",
        "outputId": "c4077dbc-deb7-42c1-e881-ff64d8d7d410"
      },
      "outputs": [
        {
          "output_type": "stream",
          "name": "stdout",
          "text": [
            "Index of 30 in my_list: 3\n",
            "Updated my_list: [10, 15, 20, 30, 40, 50, 60]\n"
          ]
        }
      ],
      "source": [
        "my_list = []\n",
        "\n",
        "my_list.extend([10, 20, 30, 40])\n",
        "\n",
        "my_list.insert(1, 15)\n",
        "\n",
        "my_list.extend([50, 60, 70])\n",
        "\n",
        "my_list.pop()\n",
        "\n",
        "my_list.sort()\n",
        "\n",
        "index_of_30 = my_list.index(30)\n",
        "print(\"Index of 30 in my_list:\", index_of_30)\n",
        "\n",
        "print(\"Updated my_list:\", my_list)\n"
      ]
    }
  ]
}